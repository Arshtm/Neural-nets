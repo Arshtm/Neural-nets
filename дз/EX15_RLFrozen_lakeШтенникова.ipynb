{
  "nbformat": 4,
  "nbformat_minor": 0,
  "metadata": {
    "kernelspec": {
      "display_name": "Python 3",
      "language": "python",
      "name": "python3"
    },
    "language_info": {
      "codemirror_mode": {
        "name": "ipython",
        "version": 3
      },
      "file_extension": ".py",
      "mimetype": "text/x-python",
      "name": "python",
      "nbconvert_exporter": "python",
      "pygments_lexer": "ipython3",
      "version": "3.6.13"
    },
    "colab": {
      "name": "EX15_RLFrozen_lake.ipynb",
      "provenance": [],
      "toc_visible": true
    }
  },
  "cells": [
    {
      "cell_type": "markdown",
      "metadata": {
        "id": "v-jHDqpGWY-t"
      },
      "source": [
        "# Вспомогательный код.\n",
        "\n"
      ]
    },
    {
      "cell_type": "code",
      "metadata": {
        "id": "lCx4yTJzWYb6",
        "outputId": "48ee7363-730d-4d4d-9059-ef410e5863c6",
        "colab": {
          "base_uri": "https://localhost:8080/"
        }
      },
      "source": [
        "import sys, os\n",
        "if 'google.colab' in sys.modules and not os.path.exists('.setup_complete'):\n",
        "    !wget -q https://raw.githubusercontent.com/yandexdataschool/Practical_RL/master/setup_colab.sh -O- | bash\n",
        "    !wget -q https://raw.githubusercontent.com/yandexdataschool/Practical_RL/master/week02_value_based/mdp.py\n",
        "    !touch .setup_complete\n",
        "\n",
        "# This code creates a virtual display to draw game images on.\n",
        "# It will have no effect if your machine has a monitor.\n",
        "if type(os.environ.get(\"DISPLAY\")) is not str or len(os.environ.get(\"DISPLAY\")) == 0:\n",
        "    !bash ../xvfb start\n",
        "    os.environ['DISPLAY'] = ':1'\n",
        "    sys.path.append(\"./lib\")\n",
        "    print('Not Colab')"
      ],
      "execution_count": 1,
      "outputs": [
        {
          "output_type": "stream",
          "text": [
            "Selecting previously unselected package xvfb.\n",
            "(Reading database ... 160706 files and directories currently installed.)\n",
            "Preparing to unpack .../xvfb_2%3a1.19.6-1ubuntu4.9_amd64.deb ...\n",
            "Unpacking xvfb (2:1.19.6-1ubuntu4.9) ...\n",
            "Setting up xvfb (2:1.19.6-1ubuntu4.9) ...\n",
            "Processing triggers for man-db (2.8.3-2ubuntu0.1) ...\n",
            "Starting virtual X frame buffer: Xvfb.\n",
            "Not Colab\n"
          ],
          "name": "stdout"
        }
      ]
    },
    {
      "cell_type": "markdown",
      "metadata": {
        "id": "UXi3y3QgpAOF"
      },
      "source": [
        "# Описание задачи Frozen lake\n",
        "\n",
        "The agent controls the movement of a character in a grid world. Some tiles of the grid are walkable, and others lead to the agent falling into the water. Additionally, the movement direction of the agent is uncertain and only partially depends on the chosen direction. The agent is rewarded for finding a walkable path to a goal tile.\n",
        "\n",
        "\n",
        "Winter is here. You and your friends were tossing around a frisbee at the park when you made a wild throw that left the frisbee out in the middle of the lake. The water is mostly frozen, but there are a few holes where the ice has melted. If you step into one of those holes, you'll fall into the freezing water. At this time, there's an international frisbee shortage, so it's absolutely imperative that you navigate across the lake and retrieve the disc. However, the ice is slippery, so you won't always move in the direction you intend.\n",
        "\n",
        "The surface is described using a grid like the following:\n",
        "\n",
        "SFFF       (S: starting point, safe)\\\n",
        "FHFH       (F: frozen surface, safe)\\\n",
        "FFFH       (H: hole, fall to your doom)\\\n",
        "HFFG       (G: goal, where the frisbee is located)\\\n",
        "The episode ends when you reach the goal or fall in a hole. You receive a reward of 1 if you reach the goal, and zero otherwise."
      ]
    },
    {
      "cell_type": "code",
      "metadata": {
        "id": "CVUkQanapAOF",
        "outputId": "27742fe3-cac9-4d69-8ce0-717c75088b05",
        "colab": {
          "base_uri": "https://localhost:8080/"
        }
      },
      "source": [
        "from mdp import FrozenLakeEnv\n",
        "mdp = FrozenLakeEnv(slip_chance=0)\n",
        "\n",
        "mdp.render()"
      ],
      "execution_count": 2,
      "outputs": [
        {
          "output_type": "stream",
          "text": [
            "*FFF\n",
            "FHFH\n",
            "FFFH\n",
            "HFFG\n",
            "\n"
          ],
          "name": "stdout"
        }
      ]
    },
    {
      "cell_type": "code",
      "metadata": {
        "id": "pxwcu6avRzLP"
      },
      "source": [
        "def get_action_value(mdp, state_values, state, action, gamma):\n",
        "  \"\"\" \n",
        "  Computes Q(s,a) as in formula above \n",
        "\n",
        "  mdp : MDP object\n",
        "  state_values : dictionayry of { state_i : V_i }\n",
        "  state: string id of current state\n",
        "  gamma: float discount coeff\n",
        "\n",
        "  \"\"\"\n",
        "\n",
        "  next_states = mdp.get_next_states(state, action)\n",
        "\n",
        "  Q = 0.0\n",
        "\n",
        "  for next_state in next_states.keys():\n",
        "    p = next_states[next_state] # alternatively p = mdp.get_transition_prob(state, action, next_state)\n",
        "    Q += p * (mdp.get_reward(state, action, next_state) + gamma * state_values[next_state])\n",
        "  return Q \n"
      ],
      "execution_count": 5,
      "outputs": []
    },
    {
      "cell_type": "code",
      "metadata": {
        "id": "Ap2YsS7oRUUV"
      },
      "source": [
        "def get_new_state_value(mdp, state_values, state, gamma):\n",
        "    \"\"\" Computes next V(s) as in formula above. Please do not change state_values in process. \"\"\"\n",
        "    if mdp.is_terminal(state):\n",
        "      return 0 # Game over\n",
        "    \n",
        "    q_max = float('-inf')\n",
        "    actions = mdp.get_possible_actions(state)\n",
        "    for a in actions:\n",
        "      q = get_action_value(mdp, state_values, state, a, gamma)\n",
        "      q_max = max(q_max, q)\n",
        "    return q_max"
      ],
      "execution_count": 4,
      "outputs": []
    },
    {
      "cell_type": "code",
      "metadata": {
        "id": "qcSNy5qNpAOG"
      },
      "source": [
        "def value_iteration(mdp, state_values=None, gamma=0.9, num_iter=1000, min_difference=1e-5):\n",
        "    \"\"\" performs num_iter value iteration steps starting from state_values. Same as before but in a function \"\"\"\n",
        "    state_values = state_values or {s: 0 for s in mdp.get_all_states()}\n",
        "    for i in range(num_iter):\n",
        "\n",
        "        # Compute new state values using the functions you defined above. It must be a dict {state : new_V(state)}\n",
        "        new_state_values = {}\n",
        "        for s in state_values.keys():\n",
        "          new_state_values[s] = get_new_state_value(mdp, state_values, s, gamma)\n",
        "\n",
        "        assert isinstance(new_state_values, dict)\n",
        "\n",
        "        # Compute difference\n",
        "        diff = max(abs(new_state_values[s] - state_values[s])\n",
        "                   for s in mdp.get_all_states())\n",
        "\n",
        "        print(\"iter %4i   |   diff: %6.5f   |   V(start): %.3f \" %\n",
        "              (i, diff, new_state_values[mdp._initial_state]))\n",
        "\n",
        "        state_values = new_state_values\n",
        "        if diff < min_difference:\n",
        "            break\n",
        "\n",
        "    return state_values"
      ],
      "execution_count": 8,
      "outputs": []
    },
    {
      "cell_type": "code",
      "metadata": {
        "id": "5IALMWjxpAOG",
        "outputId": "a69ee42e-fa0f-4d04-8de6-c5ccc7d03185",
        "colab": {
          "base_uri": "https://localhost:8080/"
        }
      },
      "source": [
        "state_values = value_iteration(mdp)"
      ],
      "execution_count": 11,
      "outputs": [
        {
          "output_type": "stream",
          "text": [
            "iter    0   |   diff: 1.00000   |   V(start): 0.000 \n",
            "iter    1   |   diff: 0.90000   |   V(start): 0.000 \n",
            "iter    2   |   diff: 0.81000   |   V(start): 0.000 \n",
            "iter    3   |   diff: 0.72900   |   V(start): 0.000 \n",
            "iter    4   |   diff: 0.65610   |   V(start): 0.000 \n",
            "iter    5   |   diff: 0.59049   |   V(start): 0.590 \n",
            "iter    6   |   diff: 0.00000   |   V(start): 0.590 \n"
          ],
          "name": "stdout"
        }
      ]
    },
    {
      "cell_type": "code",
      "metadata": {
        "id": "_2v1kuD1Sl1K"
      },
      "source": [
        "def get_optimal_action(mdp, state_values, state, gamma=0.9):\n",
        "    \"\"\" Finds optimal action using formula above. \"\"\"\n",
        "    if mdp.is_terminal(state):\n",
        "        return None\n",
        "    \n",
        "    best_action = None\n",
        "    q_max = float('-inf')\n",
        "    actions = mdp.get_possible_actions(state)\n",
        "    for a in actions:\n",
        "      q = get_action_value(mdp, state_values, state, a, gamma)\n",
        "      if q > q_max:\n",
        "        best_action = a\n",
        "        q_max = q\n",
        "\n",
        "    return best_action"
      ],
      "execution_count": 12,
      "outputs": []
    },
    {
      "cell_type": "code",
      "metadata": {
        "id": "Mhif0NXSpAOG",
        "outputId": "8989d39b-13d4-479d-819f-bce62ca919b3",
        "colab": {
          "base_uri": "https://localhost:8080/"
        }
      },
      "source": [
        "s = mdp.reset()\n",
        "gamma = 0.9\n",
        "mdp.render()\n",
        "for t in range(100):\n",
        "    a = get_optimal_action(mdp, state_values, s, gamma)\n",
        "    print(a, end='\\n\\n')\n",
        "    s, r, done, _ = mdp.step(a)\n",
        "    mdp.render()\n",
        "    if done:\n",
        "        break"
      ],
      "execution_count": 13,
      "outputs": [
        {
          "output_type": "stream",
          "text": [
            "*FFF\n",
            "FHFH\n",
            "FFFH\n",
            "HFFG\n",
            "\n",
            "down\n",
            "\n",
            "SFFF\n",
            "*HFH\n",
            "FFFH\n",
            "HFFG\n",
            "\n",
            "down\n",
            "\n",
            "SFFF\n",
            "FHFH\n",
            "*FFH\n",
            "HFFG\n",
            "\n",
            "right\n",
            "\n",
            "SFFF\n",
            "FHFH\n",
            "F*FH\n",
            "HFFG\n",
            "\n",
            "down\n",
            "\n",
            "SFFF\n",
            "FHFH\n",
            "FFFH\n",
            "H*FG\n",
            "\n",
            "right\n",
            "\n",
            "SFFF\n",
            "FHFH\n",
            "FFFH\n",
            "HF*G\n",
            "\n",
            "right\n",
            "\n",
            "SFFF\n",
            "FHFH\n",
            "FFFH\n",
            "HFF*\n",
            "\n"
          ],
          "name": "stdout"
        }
      ]
    },
    {
      "cell_type": "markdown",
      "metadata": {
        "id": "FuFD0Y8spAOH"
      },
      "source": [
        "### Let's visualize!\n",
        "\n",
        "It's usually interesting to see what your algorithm actually learned under the hood. To do so, we'll plot state value functions and optimal actions at each VI step."
      ]
    },
    {
      "cell_type": "code",
      "metadata": {
        "id": "aMjHx53upAOH"
      },
      "source": [
        "import matplotlib.pyplot as plt\n",
        "import numpy as np\n",
        "\n",
        "%matplotlib inline\n",
        "\n",
        "\n",
        "def draw_policy(mdp, state_values):\n",
        "    plt.figure(figsize=(3, 3))\n",
        "    h, w = mdp.desc.shape\n",
        "    states = sorted(mdp.get_all_states())\n",
        "    V = np.array([state_values[s] for s in states])\n",
        "    Pi = {s: get_optimal_action(mdp, state_values, s, gamma) for s in states}\n",
        "    plt.imshow(V.reshape(w, h), cmap='gray', interpolation='none', clim=(0, 1))\n",
        "    ax = plt.gca()\n",
        "    ax.set_xticks(np.arange(h)-.5)\n",
        "    ax.set_yticks(np.arange(w)-.5)\n",
        "    ax.set_xticklabels([])\n",
        "    ax.set_yticklabels([])\n",
        "    Y, X = np.mgrid[0:4, 0:4]\n",
        "    a2uv = {'left': (-1, 0), 'down': (0, -1), 'right': (1, 0), 'up': (0, 1)}\n",
        "    for y in range(h):\n",
        "        for x in range(w):\n",
        "            plt.text(x, y, str(mdp.desc[y, x].item()),\n",
        "                     color='g', size=12,  verticalalignment='center',\n",
        "                     horizontalalignment='center', fontweight='bold')\n",
        "            a = Pi[y, x]\n",
        "            if a is None:\n",
        "                continue\n",
        "            u, v = a2uv[a]\n",
        "            plt.arrow(x, y, u*.3, -v*.3, color='m',\n",
        "                      head_width=0.1, head_length=0.1)\n",
        "    plt.grid(color='b', lw=2, ls='-')\n",
        "    plt.show()"
      ],
      "execution_count": 16,
      "outputs": []
    },
    {
      "cell_type": "code",
      "metadata": {
        "id": "aLz_4dTmpAOJ",
        "outputId": "3cef4cb9-a2a7-4852-f2b3-ff122dfc7943",
        "colab": {
          "base_uri": "https://localhost:8080/",
          "height": 1000
        }
      },
      "source": [
        "state_values = {s: 0 for s in mdp.get_all_states()}\n",
        "\n",
        "for i in range(10):\n",
        "    print(\"after iteration %i\" % i)\n",
        "    state_values = value_iteration(mdp, state_values, num_iter=1)\n",
        "    draw_policy(mdp, state_values)\n",
        "# please ignore iter 0 at each step"
      ],
      "execution_count": 17,
      "outputs": [
        {
          "output_type": "stream",
          "text": [
            "after iteration 0\n",
            "iter    0   |   diff: 1.00000   |   V(start): 0.000 \n"
          ],
          "name": "stdout"
        },
        {
          "output_type": "display_data",
          "data": {
            "image/png": "[encoded data removed]",
            "text/plain": [
              "<Figure size 216x216 with 1 Axes>"
            ]
          },
          "metadata": {
            "tags": [],
            "needs_background": "light"
          }
        },
        {
          "output_type": "stream",
          "text": [
            "after iteration 1\n",
            "iter    0   |   diff: 0.90000   |   V(start): 0.000 \n"
          ],
          "name": "stdout"
        },
        {
          "output_type": "display_data",
          "data": {
            "image/png": "[encoded data removed]",
            "text/plain": [
              "<Figure size 216x216 with 1 Axes>"
            ]
          },
          "metadata": {
            "tags": [],
            "needs_background": "light"
          }
        },
        {
          "output_type": "stream",
          "text": [
            "after iteration 2\n",
            "iter    0   |   diff: 0.81000   |   V(start): 0.000 \n"
          ],
          "name": "stdout"
        },
        {
          "output_type": "display_data",
          "data": {
            "image/png": "[encoded data removed]",
            "text/plain": [
              "<Figure size 216x216 with 1 Axes>"
            ]
          },
          "metadata": {
            "tags": [],
            "needs_background": "light"
          }
        },
        {
          "output_type": "stream",
          "text": [
            "after iteration 3\n",
            "iter    0   |   diff: 0.72900   |   V(start): 0.000 \n"
          ],
          "name": "stdout"
        },
        {
          "output_type": "display_data",
          "data": {
            "image/png": "[encoded data removed]",
            "text/plain": [
              "<Figure size 216x216 with 1 Axes>"
            ]
          },
          "metadata": {
            "tags": [],
            "needs_background": "light"
          }
        },
        {
          "output_type": "stream",
          "text": [
            "after iteration 4\n",
            "iter    0   |   diff: 0.65610   |   V(start): 0.000 \n"
          ],
          "name": "stdout"
        },
        {
          "output_type": "display_data",
          "data": {
            "image/png": "[encoded data removed]",
            "text/plain": [
              "<Figure size 216x216 with 1 Axes>"
            ]
          },
          "metadata": {
            "tags": [],
            "needs_background": "light"
          }
        },
        {
          "output_type": "stream",
          "text": [
            "after iteration 5\n",
            "iter    0   |   diff: 0.59049   |   V(start): 0.590 \n"
          ],
          "name": "stdout"
        },
        {
          "output_type": "display_data",
          "data": {
            "image/png": "[encoded data removed]",
            "text/plain": [
              "<Figure size 216x216 with 1 Axes>"
            ]
          },
          "metadata": {
            "tags": [],
            "needs_background": "light"
          }
        },
        {
          "output_type": "stream",
          "text": [
            "after iteration 6\n",
            "iter    0   |   diff: 0.00000   |   V(start): 0.590 \n"
          ],
          "name": "stdout"
        },
        {
          "output_type": "display_data",
          "data": {
            "image/png": "[encoded data removed]",
            "text/plain": [
              "<Figure size 216x216 with 1 Axes>"
            ]
          },
          "metadata": {
            "tags": [],
            "needs_background": "light"
          }
        },
        {
          "output_type": "stream",
          "text": [
            "after iteration 7\n",
            "iter    0   |   diff: 0.00000   |   V(start): 0.590 \n"
          ],
          "name": "stdout"
        },
        {
          "output_type": "display_data",
          "data": {
            "image/png": "[encoded data removed]",
            "text/plain": [
              "<Figure size 216x216 with 1 Axes>"
            ]
          },
          "metadata": {
            "tags": [],
            "needs_background": "light"
          }
        },
        {
          "output_type": "stream",
          "text": [
            "after iteration 8\n",
            "iter    0   |   diff: 0.00000   |   V(start): 0.590 \n"
          ],
          "name": "stdout"
        },
        {
          "output_type": "display_data",
          "data": {
            "image/png": "[encoded data removed]",
            "text/plain": [
              "<Figure size 216x216 with 1 Axes>"
            ]
          },
          "metadata": {
            "tags": [],
            "needs_background": "light"
          }
        },
        {
          "output_type": "stream",
          "text": [
            "after iteration 9\n",
            "iter    0   |   diff: 0.00000   |   V(start): 0.590 \n"
          ],
          "name": "stdout"
        },
        {
          "output_type": "display_data",
          "data": {
            "image/png": "[encoded data removed]",
            "text/plain": [
              "<Figure size 216x216 with 1 Axes>"
            ]
          },
          "metadata": {
            "tags": [],
            "needs_background": "light"
          }
        }
      ]
    },
    {
      "cell_type": "code",
      "metadata": {
        "id": "bMsvugtJpAOJ",
        "outputId": "934e5277-aa3f-4433-f2b7-f912001bb3a8",
        "colab": {
          "base_uri": "https://localhost:8080/",
          "height": 230
        }
      },
      "source": [
        "from IPython.display import clear_output\n",
        "from time import sleep\n",
        "mdp = FrozenLakeEnv(map_name='8x8', slip_chance=0.1)\n",
        "state_values = {s: 0 for s in mdp.get_all_states()}\n",
        "\n",
        "for i in range(30):\n",
        "    clear_output(True)\n",
        "    print(\"after iteration %i\" % i)\n",
        "    state_values = value_iteration(mdp, state_values, num_iter=1)\n",
        "    draw_policy(mdp, state_values)\n",
        "    sleep(0.5)\n",
        "# please ignore iter 0 at each step"
      ],
      "execution_count": 18,
      "outputs": [
        {
          "output_type": "stream",
          "text": [
            "after iteration 29\n",
            "iter    0   |   diff: 0.00000   |   V(start): 0.198 \n"
          ],
          "name": "stdout"
        },
        {
          "output_type": "display_data",
          "data": {
            "image/png": "[encoded data removed]",
            "text/plain": [
              "<Figure size 216x216 with 1 Axes>"
            ]
          },
          "metadata": {
            "tags": [],
            "needs_background": "light"
          }
        }
      ]
    },
    {
      "cell_type": "markdown",
      "metadata": {
        "id": "JrRZ3ubWpAOK"
      },
      "source": [
        "Massive tests"
      ]
    },
    {
      "cell_type": "code",
      "metadata": {
        "id": "JvahIYaXpAOK",
        "outputId": "f8b10867-1629-4c50-8c8e-b6ceedbc453b",
        "colab": {
          "base_uri": "https://localhost:8080/"
        }
      },
      "source": [
        "mdp = FrozenLakeEnv(slip_chance=0)\n",
        "state_values = value_iteration(mdp)\n",
        "\n",
        "total_rewards = []\n",
        "for game_i in range(1000):\n",
        "    s = mdp.reset()\n",
        "    rewards = []\n",
        "    for t in range(100):\n",
        "        s, r, done, _ = mdp.step(\n",
        "            get_optimal_action(mdp, state_values, s, gamma))\n",
        "        rewards.append(r)\n",
        "        if done:\n",
        "            break\n",
        "    total_rewards.append(np.sum(rewards))\n",
        "\n",
        "print(\"average reward: \", np.mean(total_rewards))\n",
        "assert(1.0 <= np.mean(total_rewards) <= 1.0)\n",
        "print(\"Well done!\")"
      ],
      "execution_count": 19,
      "outputs": [
        {
          "output_type": "stream",
          "text": [
            "iter    0   |   diff: 1.00000   |   V(start): 0.000 \n",
            "iter    1   |   diff: 0.90000   |   V(start): 0.000 \n",
            "iter    2   |   diff: 0.81000   |   V(start): 0.000 \n",
            "iter    3   |   diff: 0.72900   |   V(start): 0.000 \n",
            "iter    4   |   diff: 0.65610   |   V(start): 0.000 \n",
            "iter    5   |   diff: 0.59049   |   V(start): 0.590 \n",
            "iter    6   |   diff: 0.00000   |   V(start): 0.590 \n",
            "average reward:  1.0\n",
            "Well done!\n"
          ],
          "name": "stdout"
        }
      ]
    },
    {
      "cell_type": "code",
      "metadata": {
        "id": "QMvQQeJrpAOL",
        "outputId": "ed348ecd-0782-412b-9b0f-212bcf3105c7",
        "colab": {
          "base_uri": "https://localhost:8080/"
        }
      },
      "source": [
        "# Measure agent's average reward\n",
        "mdp = FrozenLakeEnv(slip_chance=0.1)\n",
        "state_values = value_iteration(mdp)\n",
        "\n",
        "total_rewards = []\n",
        "for game_i in range(1000):\n",
        "    s = mdp.reset()\n",
        "    rewards = []\n",
        "    for t in range(100):\n",
        "        s, r, done, _ = mdp.step(\n",
        "            get_optimal_action(mdp, state_values, s, gamma))\n",
        "        rewards.append(r)\n",
        "        if done:\n",
        "            break\n",
        "    total_rewards.append(np.sum(rewards))\n",
        "\n",
        "print(\"average reward: \", np.mean(total_rewards))\n",
        "assert(0.8 <= np.mean(total_rewards) <= 0.95)\n",
        "print(\"Well done!\")"
      ],
      "execution_count": 20,
      "outputs": [
        {
          "output_type": "stream",
          "text": [
            "iter    0   |   diff: 0.90000   |   V(start): 0.000 \n",
            "iter    1   |   diff: 0.72900   |   V(start): 0.000 \n",
            "iter    2   |   diff: 0.62330   |   V(start): 0.000 \n",
            "iter    3   |   diff: 0.50487   |   V(start): 0.000 \n",
            "iter    4   |   diff: 0.40894   |   V(start): 0.000 \n",
            "iter    5   |   diff: 0.34868   |   V(start): 0.349 \n",
            "iter    6   |   diff: 0.06529   |   V(start): 0.410 \n",
            "iter    7   |   diff: 0.05832   |   V(start): 0.468 \n",
            "iter    8   |   diff: 0.01139   |   V(start): 0.480 \n",
            "iter    9   |   diff: 0.00764   |   V(start): 0.487 \n",
            "iter   10   |   diff: 0.00164   |   V(start): 0.489 \n",
            "iter   11   |   diff: 0.00094   |   V(start): 0.490 \n",
            "iter   12   |   diff: 0.00022   |   V(start): 0.490 \n",
            "iter   13   |   diff: 0.00011   |   V(start): 0.490 \n",
            "iter   14   |   diff: 0.00003   |   V(start): 0.490 \n",
            "iter   15   |   diff: 0.00001   |   V(start): 0.490 \n",
            "iter   16   |   diff: 0.00000   |   V(start): 0.490 \n",
            "average reward:  0.868\n",
            "Well done!\n"
          ],
          "name": "stdout"
        }
      ]
    },
    {
      "cell_type": "code",
      "metadata": {
        "id": "QsEctKJSpAOL",
        "outputId": "67182453-f19c-41c5-b653-ae5e63274e22",
        "colab": {
          "base_uri": "https://localhost:8080/"
        }
      },
      "source": [
        "# Measure agent's average reward\n",
        "mdp = FrozenLakeEnv(slip_chance=0.25)\n",
        "state_values = value_iteration(mdp)\n",
        "\n",
        "total_rewards = []\n",
        "for game_i in range(1000):\n",
        "    s = mdp.reset()\n",
        "    rewards = []\n",
        "    for t in range(100):\n",
        "        s, r, done, _ = mdp.step(\n",
        "            get_optimal_action(mdp, state_values, s, gamma))\n",
        "        rewards.append(r)\n",
        "        if done:\n",
        "            break\n",
        "    total_rewards.append(np.sum(rewards))\n",
        "\n",
        "print(\"average reward: \", np.mean(total_rewards))\n",
        "assert(0.6 <= np.mean(total_rewards) <= 0.7)\n",
        "print(\"Well done!\")"
      ],
      "execution_count": 21,
      "outputs": [
        {
          "output_type": "stream",
          "text": [
            "iter    0   |   diff: 0.75000   |   V(start): 0.000 \n",
            "iter    1   |   diff: 0.50625   |   V(start): 0.000 \n",
            "iter    2   |   diff: 0.39867   |   V(start): 0.000 \n",
            "iter    3   |   diff: 0.26910   |   V(start): 0.000 \n",
            "iter    4   |   diff: 0.18164   |   V(start): 0.000 \n",
            "iter    5   |   diff: 0.14013   |   V(start): 0.140 \n",
            "iter    6   |   diff: 0.07028   |   V(start): 0.199 \n",
            "iter    7   |   diff: 0.06030   |   V(start): 0.260 \n",
            "iter    8   |   diff: 0.02594   |   V(start): 0.285 \n",
            "iter    9   |   diff: 0.01918   |   V(start): 0.305 \n",
            "iter   10   |   diff: 0.00858   |   V(start): 0.313 \n",
            "iter   11   |   diff: 0.00560   |   V(start): 0.319 \n",
            "iter   12   |   diff: 0.00260   |   V(start): 0.321 \n",
            "iter   13   |   diff: 0.00159   |   V(start): 0.323 \n",
            "iter   14   |   diff: 0.00076   |   V(start): 0.324 \n",
            "iter   15   |   diff: 0.00045   |   V(start): 0.324 \n",
            "iter   16   |   diff: 0.00022   |   V(start): 0.324 \n",
            "iter   17   |   diff: 0.00012   |   V(start): 0.325 \n",
            "iter   18   |   diff: 0.00006   |   V(start): 0.325 \n",
            "iter   19   |   diff: 0.00003   |   V(start): 0.325 \n",
            "iter   20   |   diff: 0.00002   |   V(start): 0.325 \n",
            "iter   21   |   diff: 0.00001   |   V(start): 0.325 \n",
            "average reward:  0.657\n",
            "Well done!\n"
          ],
          "name": "stdout"
        }
      ]
    },
    {
      "cell_type": "code",
      "metadata": {
        "id": "WbuRh87gpAOM",
        "outputId": "8790a3e8-d5ac-4b07-c354-97caf940a908",
        "colab": {
          "base_uri": "https://localhost:8080/"
        }
      },
      "source": [
        "# Measure agent's average reward\n",
        "mdp = FrozenLakeEnv(slip_chance=0.2, map_name='8x8')\n",
        "state_values = value_iteration(mdp)\n",
        "\n",
        "total_rewards = []\n",
        "for game_i in range(1000):\n",
        "    s = mdp.reset()\n",
        "    rewards = []\n",
        "    for t in range(100):\n",
        "        s, r, done, _ = mdp.step(\n",
        "            get_optimal_action(mdp, state_values, s, gamma))\n",
        "        rewards.append(r)\n",
        "        if done:\n",
        "            break\n",
        "    total_rewards.append(np.sum(rewards))\n",
        "\n",
        "print(\"average reward: \", np.mean(total_rewards))\n",
        "assert(0.6 <= np.mean(total_rewards) <= 0.8)\n",
        "print(\"Well done!\")"
      ],
      "execution_count": 22,
      "outputs": [
        {
          "output_type": "stream",
          "text": [
            "iter    0   |   diff: 0.80000   |   V(start): 0.000 \n",
            "iter    1   |   diff: 0.57600   |   V(start): 0.000 \n",
            "iter    2   |   diff: 0.41472   |   V(start): 0.000 \n",
            "iter    3   |   diff: 0.29860   |   V(start): 0.000 \n",
            "iter    4   |   diff: 0.24186   |   V(start): 0.000 \n",
            "iter    5   |   diff: 0.19349   |   V(start): 0.000 \n",
            "iter    6   |   diff: 0.15325   |   V(start): 0.000 \n",
            "iter    7   |   diff: 0.12288   |   V(start): 0.000 \n",
            "iter    8   |   diff: 0.09930   |   V(start): 0.000 \n",
            "iter    9   |   diff: 0.08037   |   V(start): 0.000 \n",
            "iter   10   |   diff: 0.06426   |   V(start): 0.000 \n",
            "iter   11   |   diff: 0.05129   |   V(start): 0.000 \n",
            "iter   12   |   diff: 0.04330   |   V(start): 0.000 \n",
            "iter   13   |   diff: 0.03802   |   V(start): 0.033 \n",
            "iter   14   |   diff: 0.03332   |   V(start): 0.058 \n",
            "iter   15   |   diff: 0.02910   |   V(start): 0.087 \n",
            "iter   16   |   diff: 0.01855   |   V(start): 0.106 \n",
            "iter   17   |   diff: 0.01403   |   V(start): 0.120 \n",
            "iter   18   |   diff: 0.00810   |   V(start): 0.128 \n",
            "iter   19   |   diff: 0.00555   |   V(start): 0.133 \n",
            "iter   20   |   diff: 0.00321   |   V(start): 0.137 \n",
            "iter   21   |   diff: 0.00247   |   V(start): 0.138 \n",
            "iter   22   |   diff: 0.00147   |   V(start): 0.139 \n",
            "iter   23   |   diff: 0.00104   |   V(start): 0.140 \n",
            "iter   24   |   diff: 0.00058   |   V(start): 0.140 \n",
            "iter   25   |   diff: 0.00036   |   V(start): 0.141 \n",
            "iter   26   |   diff: 0.00024   |   V(start): 0.141 \n",
            "iter   27   |   diff: 0.00018   |   V(start): 0.141 \n",
            "iter   28   |   diff: 0.00012   |   V(start): 0.141 \n",
            "iter   29   |   diff: 0.00007   |   V(start): 0.141 \n",
            "iter   30   |   diff: 0.00004   |   V(start): 0.141 \n",
            "iter   31   |   diff: 0.00003   |   V(start): 0.141 \n",
            "iter   32   |   diff: 0.00001   |   V(start): 0.141 \n",
            "iter   33   |   diff: 0.00001   |   V(start): 0.141 \n",
            "average reward:  0.739\n",
            "Well done!\n"
          ],
          "name": "stdout"
        }
      ]
    }
  ]
}