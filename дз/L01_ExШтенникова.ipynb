{
  "nbformat": 4,
  "nbformat_minor": 0,
  "metadata": {
    "colab": {
      "name": "L01_Intro.ipynb",
      "provenance": [],
      "collapsed_sections": []
    },
    "kernelspec": {
      "display_name": "Python 3",
      "language": "python",
      "name": "python3"
    },
    "language_info": {
      "codemirror_mode": {
        "name": "ipython",
        "version": 3
      },
      "file_extension": ".py",
      "mimetype": "text/x-python",
      "name": "python",
      "nbconvert_exporter": "python",
      "pygments_lexer": "ipython3",
      "version": "3.9.1"
    }
  },
  "cells": [
    {
      "cell_type": "markdown",
      "metadata": {
        "id": "QieIAUn4w53H"
      },
      "source": [
        "# Задача №1\n",
        "\n",
        "Классифицируйте ирисы при помощи метода K-NN.\n",
        "Используйте материал из лекции (5.3.5. Алгоритм k-nearest neighbors) \n",
        "\n",
        "## 1.1 Загрузите [Iris Data Set](https://archive.ics.uci.edu/ml/datasets/iris)\n",
        "\n",
        "Удобный способ сделать это использовать модуль [sklearn.datasets](https://scikit-learn.org/stable/modules/generated/sklearn.datasets.load_iris.html#sklearn.datasets.load_iris)\n",
        "\n",
        "Пример загрузки датесета sklearn можно найти в лекции в разделе:\n",
        "Табличные данные -> Загрузка данных\n",
        "\n"
      ]
    },
    {
      "cell_type": "code",
      "metadata": {
        "id": "DlAOmYVhySfQ",
        "colab": {
          "base_uri": "https://localhost:8080/"
        },
        "outputId": "28334f1d-169e-493f-ed2e-d32b4f881385"
      },
      "source": [
        "import sklearn \r\n",
        "from sklearn.datasets import load_iris\r\n",
        "\r\n",
        "# Download dataset \r\n",
        "data = load_iris(return_X_y = True) # Так же можно получить данные в Bunch(словарь) или pandas DataFrame\r\n",
        "\r\n",
        "features = data[0] # Массив 150x4 \r\n",
        "class_labels = data[1] # Массив из 150 элементов каждый элемент это число обозначающее класс к которому относиться данный ирис: 0, 1, 2\r\n",
        "print(\"Данные\",features.shape)\r\n",
        "print(\"Номер класса\",class_labels.shape)"
      ],
      "execution_count": 16,
      "outputs": [
        {
          "output_type": "stream",
          "text": [
            "Данные (150, 4)\n",
            "Номер класса (150,)\n"
          ],
          "name": "stdout"
        }
      ]
    },
    {
      "cell_type": "markdown",
      "metadata": {
        "id": "OvpoAu5yyFhU"
      },
      "source": [
        "Визуализируйте данные в виде таблицы. (см. п. лекции Табличные данные ->Визуализация данных)\n"
      ]
    },
    {
      "cell_type": "code",
      "metadata": {
        "id": "smoaErn7w0ap",
        "colab": {
          "base_uri": "https://localhost:8080/",
          "height": 195
        },
        "outputId": "3bcf17eb-3f3d-46aa-bf35-8baa064da80d"
      },
      "source": [
        "import pandas as pd \r\n",
        "\r\n",
        "data_bunch = load_iris(return_X_y = False)\r\n",
        "#print(data_bunch.keys())\r\n",
        "\r\n",
        "df = pd.DataFrame(data_bunch.data, columns=data_bunch.feature_names)\r\n",
        "df.head()"
      ],
      "execution_count": 17,
      "outputs": [
        {
          "output_type": "execute_result",
          "data": {
            "text/html": [
              "<div>\n",
              "<style scoped>\n",
              "    .dataframe tbody tr th:only-of-type {\n",
              "        vertical-align: middle;\n",
              "    }\n",
              "\n",
              "    .dataframe tbody tr th {\n",
              "        vertical-align: top;\n",
              "    }\n",
              "\n",
              "    .dataframe thead th {\n",
              "        text-align: right;\n",
              "    }\n",
              "</style>\n",
              "<table border=\"1\" class=\"dataframe\">\n",
              "  <thead>\n",
              "    <tr style=\"text-align: right;\">\n",
              "      <th></th>\n",
              "      <th>sepal length (cm)</th>\n",
              "      <th>sepal width (cm)</th>\n",
              "      <th>petal length (cm)</th>\n",
              "      <th>petal width (cm)</th>\n",
              "    </tr>\n",
              "  </thead>\n",
              "  <tbody>\n",
              "    <tr>\n",
              "      <th>0</th>\n",
              "      <td>5.1</td>\n",
              "      <td>3.5</td>\n",
              "      <td>1.4</td>\n",
              "      <td>0.2</td>\n",
              "    </tr>\n",
              "    <tr>\n",
              "      <th>1</th>\n",
              "      <td>4.9</td>\n",
              "      <td>3.0</td>\n",
              "      <td>1.4</td>\n",
              "      <td>0.2</td>\n",
              "    </tr>\n",
              "    <tr>\n",
              "      <th>2</th>\n",
              "      <td>4.7</td>\n",
              "      <td>3.2</td>\n",
              "      <td>1.3</td>\n",
              "      <td>0.2</td>\n",
              "    </tr>\n",
              "    <tr>\n",
              "      <th>3</th>\n",
              "      <td>4.6</td>\n",
              "      <td>3.1</td>\n",
              "      <td>1.5</td>\n",
              "      <td>0.2</td>\n",
              "    </tr>\n",
              "    <tr>\n",
              "      <th>4</th>\n",
              "      <td>5.0</td>\n",
              "      <td>3.6</td>\n",
              "      <td>1.4</td>\n",
              "      <td>0.2</td>\n",
              "    </tr>\n",
              "  </tbody>\n",
              "</table>\n",
              "</div>"
            ],
            "text/plain": [
              "   sepal length (cm)  sepal width (cm)  petal length (cm)  petal width (cm)\n",
              "0                5.1               3.5                1.4               0.2\n",
              "1                4.9               3.0                1.4               0.2\n",
              "2                4.7               3.2                1.3               0.2\n",
              "3                4.6               3.1                1.5               0.2\n",
              "4                5.0               3.6                1.4               0.2"
            ]
          },
          "metadata": {
            "tags": []
          },
          "execution_count": 17
        }
      ]
    },
    {
      "cell_type": "markdown",
      "metadata": {
        "id": "Bx5vzXliyWYO"
      },
      "source": [
        "Визуализируйте данные из iris dataset при помощи Tensorboard. "
      ]
    },
    {
      "cell_type": "code",
      "metadata": {
        "id": "E35Q-O4myjju"
      },
      "source": [
        "# Вспомогательный метод для запуска Tensorboard в Colab\n",
        "\n",
        "# Fix https://stackoverflow.com/questions/60730544/tensorboard-colab-tensorflow-api-v1-io-gfile-has-no-attribute-get-filesystem\n",
        "import tensorflow as tf\n",
        "import tensorboard as tb\n",
        "tf.io.gfile = tb.compat.tensorflow_stub.io.gfile\n",
        "\n",
        "import os\n",
        "# Запуск Tensorboard в Colab\n",
        "def reinit_tensorboard(clear_log = True):\n",
        "  # Лог-файлы читаются из этого каталога: \n",
        "  logs_base_dir = \"runs\"\n",
        "  if clear_log:\n",
        "    # Очистка логов\n",
        "    !rm -rfv {logs_base_dir}/*\n",
        "    os.makedirs(logs_base_dir, exist_ok=True)\n",
        "  # Магия Colab\n",
        "  %load_ext tensorboard\n",
        "  %tensorboard --logdir {logs_base_dir}"
      ],
      "execution_count": 18,
      "outputs": []
    },
    {
      "cell_type": "markdown",
      "metadata": {
        "id": "UFLGrclZvs16"
      },
      "source": [
        "Используйте вкладку projector для визуализации данных "
      ]
    },
    {
      "cell_type": "code",
      "metadata": {
        "id": "wRB1A3JAytHc",
        "colab": {
          "base_uri": "https://localhost:8080/",
          "height": 989
        },
        "outputId": "81b6dc73-72ad-4829-a209-4d26bd408151"
      },
      "source": [
        "from torch.utils.tensorboard import SummaryWriter\r\n",
        "import numpy\r\n",
        "\r\n",
        "reinit_tensorboard()\r\n",
        "\r\n",
        "writer = SummaryWriter(comment = \"iris\")\r\n",
        "np_f = numpy.array(features)\r\n",
        "writer.add_embedding(np_f, metadata=class_labels )\r\n",
        "writer.close()"
      ],
      "execution_count": 19,
      "outputs": [
        {
          "output_type": "stream",
          "text": [
            "removed 'runs/Jan26_15-14-42_55736e634746iris/projector_config.pbtxt'\n",
            "removed 'runs/Jan26_15-14-42_55736e634746iris/events.out.tfevents.1611674082.55736e634746.723.0'\n",
            "removed 'runs/Jan26_15-14-42_55736e634746iris/00000/default/tensors.tsv'\n",
            "removed 'runs/Jan26_15-14-42_55736e634746iris/00000/default/metadata.tsv'\n",
            "removed directory 'runs/Jan26_15-14-42_55736e634746iris/00000/default'\n",
            "removed directory 'runs/Jan26_15-14-42_55736e634746iris/00000'\n",
            "removed directory 'runs/Jan26_15-14-42_55736e634746iris'\n",
            "The tensorboard extension is already loaded. To reload it, use:\n",
            "  %reload_ext tensorboard\n"
          ],
          "name": "stdout"
        },
        {
          "output_type": "display_data",
          "data": {
            "text/plain": [
              "Reusing TensorBoard on port 6006 (pid 85), started 3:17:54 ago. (Use '!kill 85' to kill it.)"
            ]
          },
          "metadata": {
            "tags": []
          }
        },
        {
          "output_type": "display_data",
          "data": {
            "application/javascript": [
              "\n",
              "        (async () => {\n",
              "            const url = new URL(await google.colab.kernel.proxyPort(6006, {'cache': true}));\n",
              "            url.searchParams.set('tensorboardColab', 'true');\n",
              "            const iframe = document.createElement('iframe');\n",
              "            iframe.src = url;\n",
              "            iframe.setAttribute('width', '100%');\n",
              "            iframe.setAttribute('height', '800');\n",
              "            iframe.setAttribute('frameborder', 0);\n",
              "            document.body.appendChild(iframe);\n",
              "        })();\n",
              "    "
            ],
            "text/plain": [
              "<IPython.core.display.Javascript object>"
            ]
          },
          "metadata": {
            "tags": []
          }
        }
      ]
    },
    {
      "cell_type": "markdown",
      "metadata": {
        "id": "sR6ygj7Gvs18"
      },
      "source": [
        "## 1.2 Классифицируйте ирисы при помощи алгоритма Nearest Neighbor.\n",
        "\n",
        "Алгоритм описан в лекции (Демонстрация работы с данными -> Изображения -> Алгоритм k-nearest neighbors)\n",
        "\n",
        "Хотя в лекции дан пример для изображений, реализация для табличных данных будет проще, либо вообще может не отличаться от предложенной.\n",
        "\n",
        "Желательно использовать методы из библиотеки pytorch, но допустимо выполнить задание используя numpy.\n",
        "\n",
        "\n",
        "P.S. Nearest Neighbor это  K- Nearest Neighbor при K =1\n",
        "\n",
        "\n"
      ]
    },
    {
      "cell_type": "markdown",
      "metadata": {
        "id": "PEi-_BOBvs18"
      },
      "source": [
        ""
      ]
    },
    {
      "cell_type": "code",
      "metadata": {
        "id": "cAg5pFTL4lH1"
      },
      "source": [
        "from torch.utils.data import DataLoader\n",
        "import torch\n",
        "import random \n",
        "import numpy as np\n",
        "\n",
        "class NearestNeighbor:\n",
        "  def __init__(self):\n",
        "    self.train_data = None\n",
        "    self.train_labels = None\n",
        "\n",
        "  def fit(self,x,y):\n",
        "    \"\"\"\n",
        "      Обучение сводится к запоминанию примеров из тренировочного датасета в свойствах класса.\n",
        "      Для выполнения задания модификация этого метода не требуется.\n",
        "    \"\"\"\n",
        "    self.train_data = torch.vstack((self.train_data,x)) if self.train_data != None else x\n",
        "    self.train_labels = torch.hstack((self.train_labels,y)) if self.train_labels != None else y\n",
        "    \n",
        "  def forward(self,x):\n",
        "    \"\"\"\n",
        "    \n",
        "         Arguments:\n",
        "             x  (Tensor or numpy.array): набор объект из тестовой выборки (batch)\n",
        "         \n",
        "         Returns:\n",
        "             class_num (Tensor or numpy.array) - вектор чисел соответствующих номерам \n",
        "             классов к которму относятся объекты их x.\n",
        "             Реализация по умолчанию возвращает случайные числа.\n",
        "    \"\"\"\n",
        "    class_count = torch.unique(self.train_labels).shape[0]\n",
        "    class_num = torch.randint(low = 0, high = class_count, size = (x.shape[0],)) \n",
        "    return class_num\n",
        "    \n",
        "  \n",
        "  def calculate_distances(self,x):\n",
        "    return self.l1_metric(x)\n",
        "\n",
        "  def l1_metric(self, x):\n",
        "      \"\"\"\n",
        "        Arguments:\n",
        "             x  (Tensor or numpy.array): набор объект из тестовой выборки (batch)\n",
        "        Returns:\n",
        "            distances - (Tensor or numpy.array): вектор растояний от каждго объекта из х до \n",
        "            всех объектов обучающей выборки\n",
        "      \"\"\"\n",
        "      distances = []\n",
        "      for k in range(len(x)):\n",
        "        distances.append(np.abs((np.array(self.train_data) - x[k]).sum(axis=1)))\n",
        "      # Put your code here\n",
        "\n",
        "      # One loop allowed\n",
        "      \n",
        "      return distances"
      ],
      "execution_count": 20,
      "outputs": []
    },
    {
      "cell_type": "markdown",
      "metadata": {
        "id": "WSSA6RNXxMD0"
      },
      "source": [
        "### 1.2.1 Убедитесь что реализация по умолчанию (класс NearestNeighbor) запускается с данными из iris dataset.\n",
        "\n",
        "Отбратите внимание на тип входных данных. Пример приведения к типу torch.tensor можно найти в лекции в разделе \"Демонстрация работы с данными->Последовательности->Обзор контейнеров\".\n",
        "\n",
        "Какую точность(accuracy) дает реализация по умолчанию?"
      ]
    },
    {
      "cell_type": "code",
      "metadata": {
        "id": "sfB7b_Qivs2A"
      },
      "source": [
        "model = NearestNeighbor()\r\n",
        "model.fit(np_f, np.array(class_labels))\r\n",
        "#print(model.calculate_distances(np_f))\r\n"
      ],
      "execution_count": 21,
      "outputs": []
    },
    {
      "cell_type": "markdown",
      "metadata": {
        "id": "tt1mzfa64XeE"
      },
      "source": [
        "### 1.2.2 Допишите недостающие части кода:\n",
        "\n",
        "\n",
        "* В методе \n",
        "  \n",
        "      predict\n",
        "    \n",
        "Вместо вектора случайных числ, возвращайте номера классов соответствующие объекту из обучающей выборки, для которого расстоянию  x будет минимальным.\n",
        "\n",
        "* Рассчет расстояний по метрике L1 реализуйте в методе\n",
        "\n",
        "      l1_metric\n",
        "\n",
        "* Для выполнения задания рекомендуется использовать методы:\n",
        "\n",
        "[torch.abs](https://pytorch.org/docs/stable/generated/torch.abs.html?highlight=abs#torch-abs)\n",
        "\n",
        "[torch.sum](https://pytorch.org/docs/stable/generated/torch.sum.html?highlight=sum#torch-sum)\n",
        "\n",
        "[torch.argmin](https://pytorch.org/docs/stable/generated/torch.argmin.html?highlight=argmin#torch-argmin)\n",
        "\n",
        "либо их аналоги из библиотеки numpy\n"
      ]
    },
    {
      "cell_type": "code",
      "metadata": {
        "id": "qoxWRI_R0ZIz"
      },
      "source": [
        "from torch.utils.data import DataLoader\r\n",
        "import torch\r\n",
        "import random \r\n",
        "import numpy as np\r\n",
        "\r\n",
        "class NearestNeighbor:\r\n",
        "    def __init__(self):\r\n",
        "        self.train_data = None\r\n",
        "        self.train_labels = None\r\n",
        "\r\n",
        "    def fit(self, x, y):\r\n",
        "        self.train_data = torch.vstack((self.train_data, x)) if self.train_data != None else x\r\n",
        "        self.train_labels = torch.hstack((self.train_labels, y)) if self.train_labels != None else y\r\n",
        "\r\n",
        "    def forward(self, x):\r\n",
        "        class_num = []\r\n",
        "        distances = self.calculate_distances(x)\r\n",
        "        for k in range(len(x)):\r\n",
        "            class_num.append(self.train_labels[np.array(distances).argmin(axis=1)[k]])\r\n",
        "        return class_num\r\n",
        "\r\n",
        "    def calculate_distances(self, x):\r\n",
        "        return self.l1_metric(x)\r\n",
        "\r\n",
        "    def l1_metric(self, x):\r\n",
        "        distances = []\r\n",
        "        for k in range(len(x)):\r\n",
        "            distances.append((np.abs(np.array(self.train_data) - np.array(x)[k])).sum(axis=1))\r\n",
        "        return distances"
      ],
      "execution_count": 36,
      "outputs": []
    },
    {
      "cell_type": "markdown",
      "metadata": {
        "id": "d_Mz6iFOdc_J"
      },
      "source": [
        "### 1.2.3 Подготовьте данные\n",
        "\n",
        "Для этого разделите датасет на две части: тренировочную b проверочную.\n",
        "Используйте для этого метод описанный в разделе лекции \"Демонстрация работы с данными->Табличные данные->Обучение\"."
      ]
    },
    {
      "cell_type": "code",
      "metadata": {
        "id": "Ly0XGCwYdhf6"
      },
      "source": [
        "from sklearn.model_selection import train_test_split\r\n",
        "\r\n",
        "X_train, X_test, y_train, y_test = train_test_split(features, class_labels, test_size=0.2) # 80% training and 20% test"
      ],
      "execution_count": 23,
      "outputs": []
    },
    {
      "cell_type": "markdown",
      "metadata": {
        "id": "gFmrGVg58ofb"
      },
      "source": [
        "### 1.2.4 \"Обучите\" модель\n",
        "\n",
        "Для этого просто вызовите метод fit передав ему на вход массив тренировочных данных с соответствующими метками классов. Аналогично тому как это демонстрировалось для в лекции (\"Демонстрация работы с данными->Табличные данные->Обучение\")"
      ]
    },
    {
      "cell_type": "code",
      "metadata": {
        "id": "TYP7nO1O8ve0"
      },
      "source": [
        "import numpy as np\n",
        "\n",
        "model = NearestNeighbor()\n",
        "\n",
        "model.fit(np.array(X_train), np.array(y_train))"
      ],
      "execution_count": 24,
      "outputs": []
    },
    {
      "cell_type": "markdown",
      "metadata": {
        "id": "d8yi1eFi93_H"
      },
      "source": [
        "### 1.2.5 Оцените точность модели по метрике accuracy\n",
        "\n",
        "Демонстрация работы с данными->Табличные данные->Оценка точности"
      ]
    },
    {
      "cell_type": "code",
      "metadata": {
        "id": "e0_paFIrvs2D",
        "colab": {
          "base_uri": "https://localhost:8080/"
        },
        "outputId": "4582ae8b-19ea-4f43-9676-c9522bf5b3db"
      },
      "source": [
        "from sklearn import metrics\r\n",
        "import numpy as np\r\n",
        "y_pred = model.forward(np.array(X_test))\r\n",
        "print(\"Accuracy:\",metrics.accuracy_score(y_test, y_pred))"
      ],
      "execution_count": 25,
      "outputs": [
        {
          "output_type": "stream",
          "text": [
            "Accuracy: 0.8666666666666667\n"
          ],
          "name": "stdout"
        }
      ]
    },
    {
      "cell_type": "markdown",
      "metadata": {
        "id": "ZR5EvqSb-AMW"
      },
      "source": [
        "# 2. Задача №2 Оцените точность работы реализованного в задании № 1 алгоритма. На датасете CIFAR10\n",
        "\n",
        "## 2.1 Загрузите датасет [CIFAR-10](https://www.cs.toronto.edu/~kriz/cifar.html)\n",
        "\n",
        "\n",
        "Рекомендуется использовать библиотеку [torchvision.datasets](https://pytorch.org/docs/stable/torchvision/datasets.html#cifar)\n",
        "\n",
        "Пример загрузки вы можете найти в лекции в разделе (Демонстрация работы с данными->Работа с изображениями)\n",
        "\n",
        "\n",
        "\n"
      ]
    },
    {
      "cell_type": "code",
      "metadata": {
        "id": "mkDqw1zV0miF",
        "colab": {
          "base_uri": "https://localhost:8080/"
        },
        "outputId": "37efe010-24a2-4f14-a545-7c4eccc783e7"
      },
      "source": [
        "from torchvision import models, datasets, transforms\r\n",
        "\r\n",
        "trainset = datasets.CIFAR10(\"content\", train=True,  download=True)\r\n",
        "valset = datasets.CIFAR10(\"content\", train = False, download=True)"
      ],
      "execution_count": 26,
      "outputs": [
        {
          "output_type": "stream",
          "text": [
            "Files already downloaded and verified\n",
            "Files already downloaded and verified\n"
          ],
          "name": "stdout"
        }
      ]
    },
    {
      "cell_type": "markdown",
      "metadata": {
        "id": "WB-dhdCe0TEJ"
      },
      "source": [
        "## 2.2 Создайте Dataloader и настройте предобработку данных\n",
        "\n",
        "- Создайте объекты Dataloader и предобработаете данные при помощи механизма трансформаций.\n",
        "Пример такой загрузки можно нейти в лекции в разделе \" (Демонстрация работы с данными->Работа с изображениями)\"\n",
        "\n",
        "- Для ускорения работы допускается уменьшить размеры датасетов. Рекомендуемые  размеры 5000 изображений для тренировочного и 500 для проверочного. \n",
        "Для этой задачи можно использовать функцию [torch.utils.data.random_split](https://pytorch.org/docs/stable/data.html#torch.utils.data.random_split)\n",
        "Пример ее использования есть в лекции в разделе: Демонстрация работы->Последовательности->Предобработка данных\n",
        "\n",
        "\n"
      ]
    },
    {
      "cell_type": "code",
      "metadata": {
        "id": "97a8z7-P3f87"
      },
      "source": [
        "from torch.utils.data import DataLoader\r\n",
        "trainset.transform = transforms.Compose([transforms.ToTensor()])\r\n",
        "train_dataloader = DataLoader(trainset, batch_size=5000, shuffle=True)\r\n",
        "valset.transform = transforms.Compose([ transforms.ToTensor() ]) \r\n",
        "val_dataloader = DataLoader(valset, batch_size=500, shuffle=False)"
      ],
      "execution_count": 37,
      "outputs": []
    },
    {
      "cell_type": "markdown",
      "metadata": {
        "id": "86z0iQk13eTA"
      },
      "source": [
        "## 2.3 Обучите классификатор(NearestNeighbor) на изображениях из CIFAR10\n",
        "\n",
        "\n",
        "Возможно для этого вам придется внести изменения в реализацию которую вы сделали для Iris Data Set. В этом случае используйте наследование. Но вполне возможно этого избежать. Тогда код из ячейки ниже вам не понадобится. И вы сможете можете использовать класс NearestNeighbor из пункта 1 без модификаций. \n",
        "\n",
        "Проанализируйте в каком формате на вход модели подаются табличные данные и в каком виде Dataloader возвращает изображения.\n",
        "Возможно вам удастся использовать метод [torch.flatten](https://pytorch.org/docs/stable/generated/torch.flatten.html?highlight=flatten#torch-flatten)\n",
        "\n",
        "\n"
      ]
    },
    {
      "cell_type": "code",
      "metadata": {
        "id": "5LF1qMLkBYzF"
      },
      "source": [
        "\"\"\"\n",
        " Используйте этот шаблон только есть он вам действительно нужен.\n",
        "\"\"\"\n",
        "\n",
        "class NearestNeighborForCIFAR10(NearestNeighbor):\n",
        "  def __init__(self):\n",
        "    super().__init__()\n",
        "  "
      ],
      "execution_count": 32,
      "outputs": []
    },
    {
      "cell_type": "code",
      "metadata": {
        "id": "7jXDlTby8q7U"
      },
      "source": [
        "model_cifar = NearestNeighbor()\r\n",
        "for img_batch, labels_batch in train_dataloader:\r\n",
        "  model_cifar.fit(torch.flatten(img_batch, start_dim=1), labels_batch)\r\n",
        "img_batch, class_num_batch = next(iter(val_dataloader))\r\n",
        "#print(len(img_batch))\r\n",
        "#print(model_cifar.train_data)\r\n",
        "predicted_cls_nums = model_cifar.forward(torch.flatten(img_batch, start_dim=1))"
      ],
      "execution_count": 38,
      "outputs": []
    },
    {
      "cell_type": "markdown",
      "metadata": {
        "id": "mJbWsXcq85z7"
      },
      "source": [
        "##2.4 Оцените точность классификации изображений из CIFAR10 по метрике accuracy\n",
        "\n",
        "Для итерации по проверочному датасету используйте Dataloader. Для расчета accuracy можно использовать sklearn аналогично тому как это сделано в задании №1. Или обратиться к примеру из лекции (Демонстрация работы с данными -> Изображения->Пример организации процесса обучения)"
      ]
    },
    {
      "cell_type": "code",
      "metadata": {
        "id": "887JXk8_vs2E",
        "colab": {
          "base_uri": "https://localhost:8080/"
        },
        "outputId": "c8b67021-28e0-4f0f-a1b3-5edbb7ffdafb"
      },
      "source": [
        "from sklearn import metrics\r\n",
        "import numpy as np\r\n",
        "print(\"Accuracy:\",metrics.accuracy_score(class_num_batch, predicted_cls_nums))"
      ],
      "execution_count": 39,
      "outputs": [
        {
          "output_type": "stream",
          "text": [
            "Accuracy: 0.364\n"
          ],
          "name": "stdout"
        }
      ]
    },
    {
      "cell_type": "markdown",
      "metadata": {
        "id": "QykgECV5-d89"
      },
      "source": [
        "# 3. Задание №3\n",
        "\n",
        "## 3.1 Реализуйте метод K-Nearest Neighbor.\n",
        "\n",
        "Используйте материал из лекции (5.3.5. Алгоритм k-nearest neighbors).\n",
        "Испоьзуйте наследование.\n",
        "Метод рассчета расстояний остается без изменений, вам требуется переопределить только метод forward.\n",
        " "
      ]
    },
    {
      "cell_type": "code",
      "metadata": {
        "id": "enNrMzCU_fBZ"
      },
      "source": [
        "import numpy as np\n",
        "\n",
        "class KNearestNeighbor(NearestNeighbor):\n",
        "  def __init__(self,k):\n",
        "    super().__init__()\n",
        "    self.k = k\n",
        "  \n",
        "  def forward(self,x):\n",
        "    class_num = []\n",
        "    distances = np.array(self.calculate_distances(x))\n",
        "    for n in range(len(distances)):\n",
        "      class_num.append([])\n",
        "    for _ in range(self.k):\n",
        "      min_array = distances.argmin(axis=1)\n",
        "      for n in range(len(distances)):\n",
        "        class_num[n].append(self.train_labels[min_array[n]])\n",
        "      for n in range(len(distances)):\n",
        "        np.delete(distances[n], min_array[n])  \n",
        "    predictions = []\n",
        "    for n in range(len(distances)):\n",
        "      predictions.append(max(set(class_num[n]), key=class_num[n].count))\n",
        "    return predictions "
      ],
      "execution_count": 41,
      "outputs": []
    },
    {
      "cell_type": "markdown",
      "metadata": {
        "id": "FOAx4F91LzIk"
      },
      "source": [
        "## 3.2 Протестируйте реализованный алгоритм со всеми значениями k из интервала [1 до 30]\n",
        "\n",
        "Используете объекты Dataloader созданные в ходе выполнения задания №2\n",
        "Постройте в Tensorboard график зависимости метрики accuracy от гиперпараметра k. Для записи в лог Tensorboard метод [add_scalar](https://pytorch.org/docs/stable/tensorboard.html?highlight=add_scalar#torch.utils.tensorboard.writer.SummaryWriter.add_scalar) \n",
        "Пример его использования которого можно найти в лекции (Демонстрация работы с данными->Последовательности->Попытка обучения)\n",
        "\n",
        "При каких k достигается наилучшая точность?"
      ]
    },
    {
      "cell_type": "code",
      "metadata": {
        "id": "6JGBJTGOpF7u",
        "colab": {
          "base_uri": "https://localhost:8080/"
        },
        "outputId": "83a1da65-ec25-4358-d66b-277cbd0dffb5"
      },
      "source": [
        "from sklearn import metrics\r\n",
        "import numpy as np\r\n",
        "model_cifar_k = KNearestNeighbor(30)\r\n",
        "for img_batch, labels_batch in train_dataloader:\r\n",
        "  model_cifar_k.fit(torch.flatten(img_batch, start_dim=1), labels_batch)\r\n",
        "img_batch, class_num_batch = next(iter(val_dataloader))\r\n",
        "#print(len(img_batch))\r\n",
        "#print(model_cifar.train_data)\r\n",
        "predicted_cls_nums = model_cifar_k.forward(torch.flatten(img_batch, start_dim=1))\r\n",
        "print(\"Accuracy:\",metrics.accuracy_score(class_num_batch, predicted_cls_nums))"
      ],
      "execution_count": 43,
      "outputs": [
        {
          "output_type": "stream",
          "text": [
            "Accuracy: 0.364\n"
          ],
          "name": "stdout"
        }
      ]
    },
    {
      "cell_type": "markdown",
      "metadata": {
        "id": "JG_BhM4TBNAG"
      },
      "source": [
        "# 4. Задание №4\n",
        "\n",
        "## 4.1 Замените метрику расстояния с L1 на L2. \n",
        "\n",
        "При какой метрике расстояния и с каким k точность будет максимально точность будет максимальной?\n",
        "\n",
        "Постройте графики точности для L1 и L2 в Tensorboard"
      ]
    },
    {
      "cell_type": "code",
      "metadata": {
        "id": "IrRq_Nzk8Dfd"
      },
      "source": [
        "class KNearestNeighborL2(KNearestNeighbor):\n",
        "  def __init__(self,k):\n",
        "    super().__init__(k)\n",
        "    self.k = k\n",
        "\n",
        "  # Override\n",
        "  def calculate_distances(self,x):\n",
        "    # Заменим метрику L1 на L2\n",
        "    return self.l2_metric(x)\n",
        "  \n",
        "  # Евклидово расстояние\n",
        "  def l2_metric(self,x):\n",
        "    \"\"\"\n",
        "        Arguments:\n",
        "             x  (Tensor or numpy.array): набор объект из тестовой выборки (batch)\n",
        "        Returns:\n",
        "            distances - (Tensor or numpy.array): вектор растояний от каждго объекта из х до \n",
        "            всех объектов обучающей выборки\n",
        "      \"\"\"\n",
        "      \n",
        "      # Put your code here\n",
        "      # One loop allowed\n",
        "      \n",
        "    return distances "
      ],
      "execution_count": null,
      "outputs": []
    },
    {
      "cell_type": "markdown",
      "metadata": {
        "id": "ZEkHnBgr8y0c"
      },
      "source": [
        "## 4.2 Постройте графики точности для L1 и L2 в Tensorboard\n",
        "\n",
        "Обучите модель и посчитайте accuracy аналогично тому как это делалось в задании № 3. Для отображения двух графиков вместе не очищайте логи Tensorboard\n",
        "\n"
      ]
    },
    {
      "cell_type": "code",
      "metadata": {
        "id": "qzHLwhvm9aDc"
      },
      "source": [
        "# Put your train and validation code here"
      ],
      "execution_count": null,
      "outputs": []
    },
    {
      "cell_type": "markdown",
      "metadata": {
        "id": "u0JzNk-spLE2"
      },
      "source": [
        "## Вывод\n",
        "\n",
        "При какой метрике расстояния и с каким k точность будет максимально точность будет максимальной?\n",
        "\n",
        "\n",
        "..."
      ]
    }
  ]
}